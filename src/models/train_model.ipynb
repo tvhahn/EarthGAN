{
 "cells": [
  {
   "cell_type": "code",
   "execution_count": 2,
   "id": "d04d0c28-0d57-4bf2-8a71-b34a71dd6830",
   "metadata": {},
   "outputs": [],
   "source": [
    "from math import log2\n",
    "import torch\n",
    "import torch.nn as nn\n",
    "import torch.nn.functional as F\n",
    "import torch.optim as optim\n",
    "from torch.utils.data import DataLoader\n",
    "import torchvision\n",
    "from torch.utils.tensorboard import SummaryWriter # print to tensorboard\n",
    "from pathlib import Path\n",
    "import numpy as np\n",
    "import matplotlib.pyplot as plt\n",
    "from matplotlib import cm\n",
    "from matplotlib import colors\n",
    "\n",
    "\n",
    "from src.models.utils.create_batch import EarthDataTrain\n",
    "from src.models.model.model import Generator, Discriminator, init_weights\n",
    "from src.models.loss.wasserstein import gradient_penalty\n",
    "\n",
    "# to clear outputs from cells\n",
    "from IPython.display import clear_output\n",
    "\n",
    "%matplotlib inline\n",
    "%load_ext autoreload\n",
    "%autoreload 2"
   ]
  },
  {
   "cell_type": "code",
   "execution_count": 20,
   "id": "da4d6239-6a0e-4442-815b-15476c566677",
   "metadata": {},
   "outputs": [],
   "source": [
    "\n",
    "\n",
    "#######################################################\n",
    "# Set Hyperparameters\n",
    "#######################################################\n",
    "\n",
    "device = \"cuda\" if torch.cuda.is_available() else \"cpu\"\n",
    "print(device)\n",
    "\n",
    "LEARNING_RATE = 1e-4\n",
    "NUM_EPOCHS = 2\n",
    "BATCH_SIZE = 2\n",
    "CRITIC_ITERATIONS = 5\n",
    "LAMBDA_GP = 10\n",
    "GEN_PRETRAIN_EPOCHS= 80 # number of epochs to pretrain generator\n",
    "\n",
    "#######################################################\n",
    "\n",
    "# set summary writer for Tensorboard\n",
    "writer_real = SummaryWriter(f\"logs/real\")\n",
    "writer_fake = SummaryWriter(f\"logs/fake\")\n",
    "step = 0\n",
    "\n",
    "# https://stackoverflow.com/q/43959474/9214620\n",
    "# convert = plt.get_cmap(cm.inferno)\n",
    "convert = plt.get_cmap(cm.hsv)\n",
    "norm = colors.Normalize(vmin=0,vmax=1)\n",
    "\n",
    "root_dir = Path.cwd().parent.parent # set the root directory as a Pathlib path\n",
    "print(root_dir)\n",
    "\n",
    "path_input_folder = root_dir / 'data/processed/input'\n",
    "path_truth_folder = root_dir / 'data/processed/truth'\n",
    "\n",
    "earth_dataset = EarthDataTrain(path_input_folder, path_truth_folder)\n",
    "\n",
    "loader = DataLoader(\n",
    "    earth_dataset,\n",
    "    batch_size=BATCH_SIZE,\n",
    "    shuffle=True,\n",
    ")\n",
    "\n",
    "gen = Generator(in_chan=4, out_chan=4, scale_factor=8, chan_base=32, chan_min=32, chan_max=64, cat_noise=True).to(device)\n",
    "critic = Discriminator(in_chan=8, out_chan=8, scale_factor=8, chan_base=32, chan_min=32, chan_max=64).to(device)\n",
    "\n",
    "# initialize weights\n",
    "gen.apply(init_weights)\n",
    "critic.apply(init_weights)\n",
    "\n",
    "# initializate optimizer\n",
    "opt_gen = optim.Adam(gen.parameters(), lr=1e-4, betas=(0.0, 0.9))\n",
    "opt_critic = optim.Adam(critic.parameters(), lr=1e-4, betas=(0.0, 0.9))\n",
    "\n",
    "gen.train()\n",
    "critic.train()\n",
    "\n",
    "\n",
    "for epoch in range(NUM_EPOCHS):\n",
    "    print('epoch', epoch)\n",
    "\n",
    "\n",
    "    for batch_idx, data in enumerate(loader):\n",
    "        x_truth = data['truth'].to(device)\n",
    "        x_up = data['upsampled'].to(device)\n",
    "        x_input = data['input'].to(device)\n",
    "\n",
    "        # pre-train the generator with simple MSE loss\n",
    "        if epoch < GEN_PRETRAIN_EPOCHS:\n",
    "            criterion = nn.MSELoss()\n",
    "            gen_fake = gen(x_input)\n",
    "            loss_mse = criterion(gen_fake, x_truth)\n",
    "            gen.zero_grad()\n",
    "            loss_mse.backward()\n",
    "            opt_gen.step()\n",
    "\n",
    "        # after pre-training of generator, enter the \n",
    "        # full training loop and train critic (e.g. discriminator) too\n",
    "        else:\n",
    "            # train critic\n",
    "            for _ in range(CRITIC_ITERATIONS):\n",
    "                fake = gen(x_input)\n",
    "                critic_real = critic(torch.cat([x_truth, x_up], dim=1)).view(-1)\n",
    "                critic_fake = critic(torch.cat([fake, x_up], dim=1)).view(-1)\n",
    "                \n",
    "                gp = gradient_penalty(critic, \n",
    "                                    torch.cat([x_truth, x_up], dim=1), # real\n",
    "                                    torch.cat([fake, x_up], dim=1),  # fake\n",
    "                                    device=device)\n",
    "\n",
    "                loss_critic = (\n",
    "                        -(torch.mean(critic_real) - torch.mean(critic_fake)) + LAMBDA_GP * gp\n",
    "                    )\n",
    "                \n",
    "                critic.zero_grad()\n",
    "                loss_critic.backward(retain_graph=True)\n",
    "                opt_critic.step()\n",
    "\n",
    "            # train generator after every N critic iterations\n",
    "            gen_fake = critic(torch.cat([fake, x_up], dim=1)).reshape(-1)\n",
    "            loss_gen = -torch.mean(gen_fake)\n",
    "            gen.zero_grad()\n",
    "            loss_gen.backward()\n",
    "            opt_gen.step()\n",
    "        plt.switch_backend('agg')    \n",
    "        with torch.no_grad():\n",
    "            fake = gen(x_input).cpu()[0,0,0,:,:]\n",
    "            print('fake.shape:', fake.shape, type(fake))\n",
    "            fig, ax = plt.subplots(1,1, figsize=(6,6))\n",
    "            ax.pcolormesh(fake, cmap='inferno')\n",
    "            ax.set_aspect(1)\n",
    "#             fake = convert(norm(fake))[:,:,:,:3]\n",
    "#             fake = convert(fake)[:,:,:,:3]\n",
    "#             fake = torch.tensor(fake)\n",
    "#             print('fake.shape:', fake.shape, type(fake))\n",
    "#             fake = rgba2rgb(fake)\n",
    "#             fake = torch.movedim(torch.tensor(fake),3,1)\n",
    "            \n",
    "#             fake = torch.unsqueeze(fake, 1)\n",
    "#             fake = torch.tensor(convert(norm(fake[:,0,:,:].cpu()))[:,:,:,:3])\n",
    "            \n",
    "#             x_truth = x_truth.cpu()[:2,0,0,:,:]\n",
    "#             print('x_truth.shape:', x_truth.shape, type(fake))\n",
    "#             x_truth = convert(norm(x_truth))[:,:,:,:3]\n",
    "#             x_truth = convert(x_truth)[:,:,:,:3]\n",
    "#             x_truth = torch.unsqueeze(x_truth, 1)\n",
    "#             print('x_truth.shape:', x_truth.shape, type(x_truth))\n",
    "#             x_truth = torch.movedim(torch.tensor(x_truth),3,1)\n",
    "#             x_truth = torch.tensor(convert(norm(x_truth[:,0,:,:].cpu()))[:,:,:,:3])\n",
    "#             img = torch.cat((fake, x_truth), dim=0)\n",
    "            # take out (up to) 32 examples\n",
    "#             img_grid_real = torchvision.utils.make_grid(x_truth, normalize=True, nrow=2)\n",
    "#             img_grid_fake = torchvision.utils.make_grid(fake, normalize=True, nrow=2)\n",
    "            writer_fake.add_figure(\"Fake\", fig, global_step=step)\n",
    "#             writer_real.add_image(\"Real\", img_grid_real, global_step=step)\n",
    "#             writer_fake.add_image(\"Fake\", img_grid_fake, global_step=step)\n",
    "\n",
    "        step += 1\n",
    "            \n",
    "clear_output(wait=False)"
   ]
  },
  {
   "cell_type": "code",
   "execution_count": null,
   "id": "f0154117-5d94-472f-9107-dfc865ea345a",
   "metadata": {},
   "outputs": [],
   "source": [
    "# fake.shape: (2, 118, 38, 3)\n",
    "# x_truth.shape: (2, 118, 38, 3)"
   ]
  },
  {
   "cell_type": "code",
   "execution_count": 182,
   "id": "4281b73c-7916-422d-94e0-4d996d7239b1",
   "metadata": {},
   "outputs": [],
   "source": [
    "fake = gen(x_input).cpu()[0,0,0,:,:]"
   ]
  },
  {
   "cell_type": "code",
   "execution_count": 190,
   "id": "3ee80e86-07c3-4ca1-8751-23d0b43cfc3b",
   "metadata": {},
   "outputs": [
    {
     "data": {
      "text/plain": [
       "torch.Size([4, 3, 118, 38])"
      ]
     },
     "execution_count": 190,
     "metadata": {},
     "output_type": "execute_result"
    }
   ],
   "source": [
    "img.shape"
   ]
  },
  {
   "cell_type": "code",
   "execution_count": 183,
   "id": "c5fae961-368e-480c-889c-cac44aa9b168",
   "metadata": {},
   "outputs": [
    {
     "data": {
      "text/plain": [
       "torch.Size([118, 38])"
      ]
     },
     "execution_count": 183,
     "metadata": {},
     "output_type": "execute_result"
    }
   ],
   "source": [
    "fake.shape"
   ]
  },
  {
   "cell_type": "code",
   "execution_count": 184,
   "id": "3873c3cb-1c2b-4992-b51a-fdba884db4db",
   "metadata": {},
   "outputs": [
    {
     "data": {
      "image/png": "[encoded data removed]",
      "text/plain": [
       "<Figure size 432x432 with 1 Axes>"
      ]
     },
     "metadata": {
      "needs_background": "light"
     },
     "output_type": "display_data"
    }
   ],
   "source": [
    "fig, ax = plt.subplots(1,1, figsize=(6,6))\n",
    "ax.pcolormesh(fake.detach(), cmap='inferno', \n",
    "              vmin=0, vmax=1\n",
    "             )\n",
    "ax.set_aspect(1)"
   ]
  },
  {
   "cell_type": "code",
   "execution_count": 186,
   "id": "18083a84-7320-443f-9b41-32ce4d7432ca",
   "metadata": {},
   "outputs": [
    {
     "ename": "IndexError",
     "evalue": "too many indices for tensor of dimension 4",
     "output_type": "error",
     "traceback": [
      "\u001b[0;31m---------------------------------------------------------------------------\u001b[0m",
      "\u001b[0;31mIndexError\u001b[0m                                Traceback (most recent call last)",
      "\u001b[0;32m/tmp/ipykernel_29026/652461366.py\u001b[0m in \u001b[0;36m<module>\u001b[0;34m\u001b[0m\n\u001b[1;32m      1\u001b[0m \u001b[0mfig\u001b[0m\u001b[0;34m,\u001b[0m \u001b[0max\u001b[0m \u001b[0;34m=\u001b[0m \u001b[0mplt\u001b[0m\u001b[0;34m.\u001b[0m\u001b[0msubplots\u001b[0m\u001b[0;34m(\u001b[0m\u001b[0;36m1\u001b[0m\u001b[0;34m,\u001b[0m\u001b[0;36m1\u001b[0m\u001b[0;34m,\u001b[0m \u001b[0mfigsize\u001b[0m\u001b[0;34m=\u001b[0m\u001b[0;34m(\u001b[0m\u001b[0;36m6\u001b[0m\u001b[0;34m,\u001b[0m\u001b[0;36m6\u001b[0m\u001b[0;34m)\u001b[0m\u001b[0;34m)\u001b[0m\u001b[0;34m\u001b[0m\u001b[0;34m\u001b[0m\u001b[0m\n\u001b[0;32m----> 2\u001b[0;31m ax.pcolormesh(x_truth.cpu().detach()[0,0,0,:,:], cmap='inferno', \n\u001b[0m\u001b[1;32m      3\u001b[0m               \u001b[0mvmin\u001b[0m\u001b[0;34m=\u001b[0m\u001b[0;36m0\u001b[0m\u001b[0;34m,\u001b[0m \u001b[0mvmax\u001b[0m\u001b[0;34m=\u001b[0m\u001b[0;36m1\u001b[0m\u001b[0;34m\u001b[0m\u001b[0;34m\u001b[0m\u001b[0m\n\u001b[1;32m      4\u001b[0m              )\n\u001b[1;32m      5\u001b[0m \u001b[0max\u001b[0m\u001b[0;34m.\u001b[0m\u001b[0mset_aspect\u001b[0m\u001b[0;34m(\u001b[0m\u001b[0;36m1\u001b[0m\u001b[0;34m)\u001b[0m\u001b[0;34m\u001b[0m\u001b[0;34m\u001b[0m\u001b[0m\n",
      "\u001b[0;31mIndexError\u001b[0m: too many indices for tensor of dimension 4"
     ]
    },
    {
     "data": {
      "image/png": "[encoded data removed]",
      "text/plain": [
       "<Figure size 432x432 with 1 Axes>"
      ]
     },
     "metadata": {
      "needs_background": "light"
     },
     "output_type": "display_data"
    }
   ],
   "source": [
    "fig, ax = plt.subplots(1,1, figsize=(6,6))\n",
    "ax.pcolormesh(x_truth.cpu().detach()[0,0,0,:,:], cmap='inferno', \n",
    "              vmin=0, vmax=1\n",
    "             )\n",
    "ax.set_aspect(1)"
   ]
  },
  {
   "cell_type": "code",
   "execution_count": 128,
   "id": "e7cd045a-9514-4cb9-8a75-c3d7b7510934",
   "metadata": {},
   "outputs": [],
   "source": [
    "convert = plt.get_cmap(cm.inferno)\n",
    "norm = colors.Normalize(vmin=0,vmax=1)\n",
    "\n",
    "numpy_output_static = convert(norm(fake.cpu()))[:,:,:,:3]"
   ]
  },
  {
   "cell_type": "code",
   "execution_count": 129,
   "id": "53bb2ab1-abb1-46df-a4fc-1f50dba06c7d",
   "metadata": {},
   "outputs": [
    {
     "data": {
      "text/plain": [
       "(2, 118, 38, 3)"
      ]
     },
     "execution_count": 129,
     "metadata": {},
     "output_type": "execute_result"
    }
   ],
   "source": [
    "numpy_output_static.shape"
   ]
  },
  {
   "cell_type": "code",
   "execution_count": 131,
   "id": "ddd991ac-738a-43e1-91a4-cfc01e66969c",
   "metadata": {},
   "outputs": [
    {
     "data": {
      "text/plain": [
       "torch.Size([3, 2, 118, 38])"
      ]
     },
     "execution_count": 131,
     "metadata": {},
     "output_type": "execute_result"
    }
   ],
   "source": [
    "n = torch.movedim(torch.tensor(numpy_output_static),3,1)\n",
    "n.shape"
   ]
  },
  {
   "cell_type": "code",
   "execution_count": 49,
   "id": "ac533c9f-28a1-4cf8-9080-fa78feb5b868",
   "metadata": {},
   "outputs": [
    {
     "data": {
      "text/plain": [
       "torch.Size([3, 122, 82])"
      ]
     },
     "execution_count": 49,
     "metadata": {},
     "output_type": "execute_result"
    }
   ],
   "source": [
    "img_grid_fake.shape"
   ]
  },
  {
   "cell_type": "code",
   "execution_count": 14,
   "id": "4de3d831-fe90-4c9b-9d74-0c22eae0a934",
   "metadata": {},
   "outputs": [
    {
     "data": {
      "text/plain": [
       "torch.Size([2, 4, 198, 118, 38])"
      ]
     },
     "execution_count": 14,
     "metadata": {},
     "output_type": "execute_result"
    }
   ],
   "source": [
    "x_truth.shape"
   ]
  },
  {
   "cell_type": "code",
   "execution_count": 15,
   "id": "d2f6f323-570b-4bc2-8cc6-85d40cd98c8f",
   "metadata": {},
   "outputs": [
    {
     "data": {
      "text/plain": [
       "torch.Size([2, 118, 38])"
      ]
     },
     "execution_count": 15,
     "metadata": {},
     "output_type": "execute_result"
    }
   ],
   "source": [
    "x_truth[:,0,0,:,:].shape"
   ]
  },
  {
   "cell_type": "code",
   "execution_count": 46,
   "id": "4f7558e1-5d2a-4273-bda3-2033799e0f08",
   "metadata": {},
   "outputs": [],
   "source": [
    "x = torch.cat((x_truth, x_truth),dim=0)"
   ]
  },
  {
   "cell_type": "code",
   "execution_count": 47,
   "id": "700bce79-349d-4eb5-84d3-e9682bcbbaa2",
   "metadata": {},
   "outputs": [
    {
     "data": {
      "text/plain": [
       "torch.Size([4, 1, 118, 38])"
      ]
     },
     "execution_count": 47,
     "metadata": {},
     "output_type": "execute_result"
    }
   ],
   "source": [
    "x.shape"
   ]
  },
  {
   "cell_type": "code",
   "execution_count": 143,
   "id": "419ff48e-bb4e-4610-a766-7e064e4abe9a",
   "metadata": {},
   "outputs": [
    {
     "data": {
      "image/png": "[encoded data removed]",
      "text/plain": [
       "<Figure size 1296x576 with 3 Axes>"
      ]
     },
     "metadata": {
      "needs_background": "light"
     },
     "output_type": "display_data"
    }
   ],
   "source": [
    "# randomly select image\n",
    "data = earth_dataset[0]\n",
    "x_input = data['input'].unsqueeze(0).to(device)\n",
    "x_truth = data['truth'].unsqueeze(0).to(device)\n",
    "\n",
    "with torch.no_grad():\n",
    "    fake = gen(x_input).detach()\n",
    "\n",
    "    \n",
    "title_list = ['Input', \"Fake\", 'Ground Truth']\n",
    "r_index = 1\n",
    "var_to_plot = 3\n",
    "    \n",
    "# create image\n",
    "color_scheme='inferno'\n",
    "fig, axes = plt.subplots(1,3, figsize=(18,8))\n",
    "\n",
    "for ax, title in zip(axes.flat, title_list):\n",
    "    \n",
    "                \n",
    "    # downscaled data\n",
    "    if title == 'Input':\n",
    "                                \n",
    "        ax.pcolormesh(x_input[0,var_to_plot,r_index,:,:].cpu(), cmap=color_scheme)\n",
    "        ax.set_title(f\"{title}, {r_index}\")\n",
    "        ax.set_aspect(1)\n",
    "                \n",
    "    # downscaled data\n",
    "    if title == 'Fake':\n",
    "                \n",
    "        ax.pcolormesh(fake[0,var_to_plot,r_index,:,:].cpu(), cmap=color_scheme)\n",
    "        ax.set_title(f\"{title}, {r_index}\")\n",
    "        ax.set_aspect(1)\n",
    "            \n",
    "    # original data\n",
    "    if title == 'Ground Truth':\n",
    "           \n",
    "        img = ax.pcolormesh(x_truth[0,var_to_plot,r_index,:,:].cpu(), cmap=color_scheme)\n",
    "        ax.set_title(f\"{title}, {r_index}\")\n",
    "        ax.set_aspect(1)\n",
    "\n",
    "plt.show()"
   ]
  },
  {
   "cell_type": "code",
   "execution_count": 72,
   "id": "aad4c380-b1f8-4590-ac6f-2ce2bbc35f59",
   "metadata": {},
   "outputs": [
    {
     "data": {
      "image/png": "[encoded data removed]",
      "text/html": [
       "<div style=\"vertical-align: middle;\"><strong>inferno</strong> </div><div class=\"cmap\"><img alt=\"inferno colormap\" title=\"inferno\" style=\"border: 1px solid #555;\" src=\"data:image/png;base64,iVBORw0KGgoAAAANSUhEUgAAAgAAAABACAYAAABsv8+/AAAAFnRFWHRUaXRsZQBpbmZlcm5vIGNvbG9ybWFwTalGwAAAABx0RVh0RGVzY3JpcHRpb24AaW5mZXJubyBjb2xvcm1hcOqH97kAAAAwdEVYdEF1dGhvcgBNYXRwbG90bGliIHYzLjQuMiwgaHR0cHM6Ly9tYXRwbG90bGliLm9yZ6zWY90AAAAydEVYdFNvZnR3YXJlAE1hdHBsb3RsaWIgdjMuNC4yLCBodHRwczovL21hdHBsb3RsaWIub3JngnD8+gAAAj5JREFUeJzt1kty2zAQBUAAVO5/YzGLCHRhaFhytq97o5oPQMouu15v7Thba621/u+jjVf1qvso/WPp99mve33dv+rNubk3bvNjqUep5/nRyl6t6z3l+4xz7X/NS/98N+9lPuv6uZu3td/X+fVb6mW/1HP+tV/vbeX8/+79XH+8186P7v96j3PzXudn92/uuZ57u7/u1eecvzu33as/h9o/yz31+5V52+zf3mOt7895U2/fr/THrJ8fPe+35/vYnB/P7++/7T9fP6A3e+P547zN+eZcq+fG/De8nmv1+9b+5r76/NY35679Vt5/7V/zUt//AGd/1uPDunz2Tb98nuPYzI/X/F3/KP31vnM7L3V/lPmj7G3q/ij7tf9n6fe+znvp901/XPNjqeevCwAIIgAAQCABAAACCQAAEEgAAIBAAgAABBIAACCQAAAAgQQAAAgkAABAIAEAAAIJAAAQSAAAgEACAAAEEgAAIJAAAACBBAAACCQAAEAgAQAAAgkAABBIAACAQAIAAAQSAAAgkAAAAIEEAAAIJAAAQCABAAACCQAAEEgAAIBAAgAABBIAACCQAAAAgQQAAAgkAABAIAEAAAIJAAAQSAAAgEACAAAEEgAAIJAAAACBBAAACCQAAEAgAQAAAgkAABBIAACAQAIAAAQSAAAgkAAAAIEEAAAIJAAAQCABAAACCQAAEEgAAIBAAgAABBIAACCQAAAAgQQAAAgkAABAIAEAAAIJAAAQSAAAgEACAAAEEgAAINBfNHptHZCXMAEAAAAASUVORK5CYII=\"></div><div style=\"vertical-align: middle; max-width: 514px; display: flex; justify-content: space-between;\"><div style=\"float: left;\"><div title=\"#000004ff\" style=\"display: inline-block; width: 1em; height: 1em; margin: 0; vertical-align: middle; border: 1px solid #555; background-color: #000004ff;\"></div> under</div><div style=\"margin: 0 auto; display: inline-block;\">bad <div title=\"#00000000\" style=\"display: inline-block; width: 1em; height: 1em; margin: 0; vertical-align: middle; border: 1px solid #555; background-color: #00000000;\"></div></div><div style=\"float: right;\">over <div title=\"#fcffa4ff\" style=\"display: inline-block; width: 1em; height: 1em; margin: 0; vertical-align: middle; border: 1px solid #555; background-color: #fcffa4ff;\"></div></div>"
      ],
      "text/plain": [
       "<matplotlib.colors.ListedColormap at 0x7f892cdd39d0>"
      ]
     },
     "execution_count": 72,
     "metadata": {},
     "output_type": "execute_result"
    }
   ],
   "source": [
    "img.cmap"
   ]
  },
  {
   "cell_type": "code",
   "execution_count": 85,
   "id": "f6d1fb70-7fa0-4753-a853-abd783b607f3",
   "metadata": {},
   "outputs": [
    {
     "data": {
      "text/plain": [
       "(38, 118)"
      ]
     },
     "execution_count": 85,
     "metadata": {},
     "output_type": "execute_result"
    }
   ],
   "source": [
    "img.get_array().reshape(img._meshWidth, img._meshHeight).shape"
   ]
  },
  {
   "cell_type": "code",
   "execution_count": 86,
   "id": "f73bab12-e0be-4b19-8b97-ef3ca573610e",
   "metadata": {},
   "outputs": [],
   "source": [
    "from matplotlib import cm\n",
    "from matplotlib import colors"
   ]
  },
  {
   "cell_type": "code",
   "execution_count": 98,
   "id": "e347e0b0-1c21-43b4-a887-577c7119544c",
   "metadata": {},
   "outputs": [],
   "source": [
    "# https://stackoverflow.com/q/43959474/9214620\n",
    "convert = plt.get_cmap(cm.inferno)\n",
    "norm = colors.Normalize(vmin=0,vmax=1)\n",
    "\n",
    "numpy_output_static = convert(norm(x_truth[0,var_to_plot,r_index,:,:].cpu()))"
   ]
  },
  {
   "cell_type": "code",
   "execution_count": 78,
   "id": "aff19ff5-70c0-4378-9a11-a82e9443f941",
   "metadata": {},
   "outputs": [
    {
     "data": {
      "text/plain": [
       "torch.Size([118, 38])"
      ]
     },
     "execution_count": 78,
     "metadata": {},
     "output_type": "execute_result"
    }
   ],
   "source": [
    "x_truth[0,var_to_plot,r_index,:,:].shape"
   ]
  },
  {
   "cell_type": "code",
   "execution_count": 77,
   "id": "6247db06-7db4-4382-a8ea-49fbf410a5d1",
   "metadata": {},
   "outputs": [
    {
     "data": {
      "text/plain": [
       "(118, 38, 4)"
      ]
     },
     "execution_count": 77,
     "metadata": {},
     "output_type": "execute_result"
    }
   ],
   "source": [
    "numpy_output_static.shape"
   ]
  },
  {
   "cell_type": "code",
   "execution_count": 102,
   "id": "f18d5da8-f80f-43d2-9672-38bf4580ae35",
   "metadata": {},
   "outputs": [
    {
     "data": {
      "text/plain": [
       "<matplotlib.image.AxesImage at 0x7f8923051af0>"
      ]
     },
     "execution_count": 102,
     "metadata": {},
     "output_type": "execute_result"
    },
    {
     "data": {
      "image/png": "[encoded data removed]",
      "text/plain": [
       "<Figure size 432x288 with 1 Axes>"
      ]
     },
     "metadata": {
      "needs_background": "light"
     },
     "output_type": "display_data"
    }
   ],
   "source": [
    "plt.imshow(numpy_output_static[:,:,:3],cmap = cm.inferno, aspect = 1)"
   ]
  },
  {
   "cell_type": "code",
   "execution_count": 70,
   "id": "c00e2014-bd49-40a6-ade2-f9b96c4bb4d4",
   "metadata": {},
   "outputs": [
    {
     "ename": "AttributeError",
     "evalue": "'QuadMesh' object has no attribute 'C'",
     "output_type": "error",
     "traceback": [
      "\u001b[0;31m---------------------------------------------------------------------------\u001b[0m",
      "\u001b[0;31mAttributeError\u001b[0m                            Traceback (most recent call last)",
      "\u001b[0;32m/tmp/ipykernel_29026/3292310844.py\u001b[0m in \u001b[0;36m<module>\u001b[0;34m\u001b[0m\n\u001b[0;32m----> 1\u001b[0;31m \u001b[0mimg\u001b[0m\u001b[0;34m.\u001b[0m\u001b[0mC\u001b[0m\u001b[0;34m.\u001b[0m\u001b[0mravel\u001b[0m\u001b[0;34m(\u001b[0m\u001b[0;34m)\u001b[0m\u001b[0;34m\u001b[0m\u001b[0;34m\u001b[0m\u001b[0m\n\u001b[0m",
      "\u001b[0;31mAttributeError\u001b[0m: 'QuadMesh' object has no attribute 'C'"
     ]
    }
   ],
   "source": [
    "img.C.ravel()"
   ]
  },
  {
   "cell_type": "code",
   "execution_count": 29,
   "id": "b0240c2a-c562-4593-b59c-1ea24abda2f8",
   "metadata": {},
   "outputs": [],
   "source": [
    "path_input_folder = root_dir / 'data/processed/input'\n",
    "path_truth_folder = root_dir / 'data/processed/truth'\n",
    "\n",
    "earth_dataset = EarthDataTrain(path_input_folder, path_truth_folder)\n",
    "\n",
    "loader = DataLoader(\n",
    "    earth_dataset,\n",
    "    batch_size=5,\n",
    "    shuffle=True,\n",
    ")\n",
    "\n",
    "for batch_idx, data in enumerate(loader):\n",
    "    x_truth = data['truth'].to('cpu')\n",
    "    x_up = data['upsampled'].to('cpu')\n",
    "    x_input = data['input'].to('cpu')"
   ]
  },
  {
   "cell_type": "code",
   "execution_count": 30,
   "id": "80fd5e85-6adb-439a-9a94-cd78f4cd9eb7",
   "metadata": {},
   "outputs": [
    {
     "data": {
      "text/plain": [
       "torch.Size([2, 4, 198, 118, 38])"
      ]
     },
     "execution_count": 30,
     "metadata": {},
     "output_type": "execute_result"
    }
   ],
   "source": [
    "x_truth.shape"
   ]
  },
  {
   "cell_type": "code",
   "execution_count": null,
   "id": "e48a5975-8d6c-41b5-8ef3-ddcb31fe7ca8",
   "metadata": {},
   "outputs": [],
   "source": []
  },
  {
   "cell_type": "code",
   "execution_count": 34,
   "id": "9cdd6982-1b69-4136-b28d-a801ee137eb4",
   "metadata": {},
   "outputs": [],
   "source": [
    "img_grid_real = torchvision.utils.make_grid(x_truth[:2,0,0,:,:], normalize=True)\n",
    "img_grid_real = torch.unsqueeze(img_grid_real, 1)"
   ]
  },
  {
   "cell_type": "code",
   "execution_count": 35,
   "id": "d4653269-24b9-4209-b064-36a05288eded",
   "metadata": {},
   "outputs": [],
   "source": [
    "torchvision.utils.save_image(img_grid_real, 'img_grid.png', nrow=2)"
   ]
  },
  {
   "cell_type": "code",
   "execution_count": 36,
   "id": "dd98bbee-b943-4395-8cc4-77dd37ad5931",
   "metadata": {},
   "outputs": [
    {
     "data": {
      "text/plain": [
       "torch.Size([2, 1, 118, 38])"
      ]
     },
     "execution_count": 36,
     "metadata": {},
     "output_type": "execute_result"
    }
   ],
   "source": [
    "img_grid_real.shape"
   ]
  },
  {
   "cell_type": "code",
   "execution_count": 7,
   "id": "a25d0128-081e-41be-b598-ccd61df8d7ac",
   "metadata": {},
   "outputs": [],
   "source": [
    "writer_real.add_image(\"Real\", img_grid_real, global_step=0)"
   ]
  },
  {
   "cell_type": "code",
   "execution_count": null,
   "id": "a1460bd1-8850-4400-a697-0ae4354ae982",
   "metadata": {},
   "outputs": [],
   "source": []
  }
 ],
 "metadata": {
  "kernelspec": {
   "display_name": "Python 3 (ipykernel)",
   "language": "python",
   "name": "python3"
  },
  "language_info": {
   "codemirror_mode": {
    "name": "ipython",
    "version": 3
   },
   "file_extension": ".py",
   "mimetype": "text/x-python",
   "name": "python",
   "nbconvert_exporter": "python",
   "pygments_lexer": "ipython3",
   "version": "3.8.10"
  }
 },
 "nbformat": 4,
 "nbformat_minor": 5
}
