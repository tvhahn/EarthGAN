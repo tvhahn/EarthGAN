{
 "cells": [
  {
   "cell_type": "code",
   "execution_count": 193,
   "metadata": {},
   "outputs": [],
   "source": [
    "import torch\n",
    "import torch.nn.functional as F\n",
    "from torch.utils.data.dataset import Dataset\n",
    "import numpy as np\n",
    "import glob\n",
    "from pathlib import Path\n",
    "import os\n",
    "import matplotlib.pyplot as plt\n",
    "import re"
   ]
  },
  {
   "cell_type": "markdown",
   "metadata": {},
   "source": [
    "Good reseource: https://github.com/ugent-korea/pytorch-unet-segmentation/blob/master/src/dataset.py\n",
    "\n",
    "... and here too: https://github.com/utkuozbulak/pytorch-custom-dataset-examples"
   ]
  },
  {
   "cell_type": "code",
   "execution_count": 24,
   "metadata": {},
   "outputs": [],
   "source": [
    "# make your root_dir the current working directory\n",
    "root_dir = Path.cwd().parent # set the root directory as a Pathlib path\n",
    "\n",
    "path_down_folder = root_dir / 'data/processed/downsampled'\n",
    "path_orig_folder = root_dir / 'data/processed/orig'"
   ]
  },
  {
   "cell_type": "code",
   "execution_count": 25,
   "metadata": {},
   "outputs": [
    {
     "data": {
      "text/plain": [
       "PosixPath('/home/tim/Documents/deep-compression/data/processed/downsampled')"
      ]
     },
     "execution_count": 25,
     "metadata": {},
     "output_type": "execute_result"
    }
   ],
   "source": [
    "folder_downsampled_data"
   ]
  },
  {
   "cell_type": "code",
   "execution_count": 26,
   "metadata": {},
   "outputs": [],
   "source": [
    "file_list_downsampled = list(folder_downsampled_data.rglob('*.npy'))\n",
    "file_list_orig = list(folder_orig_data.rglob('*.npy'))"
   ]
  },
  {
   "cell_type": "code",
   "execution_count": 27,
   "metadata": {},
   "outputs": [
    {
     "data": {
      "text/plain": [
       "[PosixPath('/home/tim/Documents/deep-compression/data/processed/orig/x_orig_01.npy'),\n",
       " PosixPath('/home/tim/Documents/deep-compression/data/processed/orig/x_orig_02.npy')]"
      ]
     },
     "execution_count": 27,
     "metadata": {},
     "output_type": "execute_result"
    }
   ],
   "source": [
    "file_list_orig"
   ]
  },
  {
   "cell_type": "code",
   "execution_count": 40,
   "metadata": {},
   "outputs": [
    {
     "data": {
      "text/plain": [
       "['01', '02']"
      ]
     },
     "execution_count": 40,
     "metadata": {},
     "output_type": "execute_result"
    }
   ],
   "source": [
    "[re.findall('[0-9]+', str(i))[-1] for i in file_list_orig]"
   ]
  },
  {
   "cell_type": "code",
   "execution_count": 34,
   "metadata": {},
   "outputs": [
    {
     "data": {
      "text/plain": [
       "['01', '02']"
      ]
     },
     "execution_count": 34,
     "metadata": {},
     "output_type": "execute_result"
    }
   ],
   "source": [
    "[str(i).split('.')[0].split('_')[-1] for i in file_list_orig]"
   ]
  },
  {
   "cell_type": "code",
   "execution_count": 68,
   "metadata": {},
   "outputs": [],
   "source": [
    "a = ['01', '02']\n",
    "b = ['01', '02']\n",
    "c = ['01', '03', '01']\n",
    "\n",
    "assert len(list(set(a) - set(b))) == 0, 'missing timestep'"
   ]
  },
  {
   "cell_type": "code",
   "execution_count": 69,
   "metadata": {},
   "outputs": [],
   "source": [
    "def junk(a, b):\n",
    "    assert (a==b), 'not true'\n",
    "    print(a, b)"
   ]
  },
  {
   "cell_type": "code",
   "execution_count": 89,
   "metadata": {},
   "outputs": [
    {
     "ename": "TypeError",
     "evalue": "'set' object is not subscriptable",
     "output_type": "error",
     "traceback": [
      "\u001b[0;31m---------------------------------------------------------------------------\u001b[0m",
      "\u001b[0;31mTypeError\u001b[0m                                 Traceback (most recent call last)",
      "\u001b[0;32m<ipython-input-89-15c0241c3d73>\u001b[0m in \u001b[0;36m<module>\u001b[0;34m\u001b[0m\n\u001b[1;32m      1\u001b[0m \u001b[0ma\u001b[0m \u001b[0;34m=\u001b[0m \u001b[0mset\u001b[0m\u001b[0;34m(\u001b[0m\u001b[0;34m[\u001b[0m\u001b[0;36m1\u001b[0m\u001b[0;34m,\u001b[0m\u001b[0;36m2\u001b[0m\u001b[0;34m]\u001b[0m\u001b[0;34m)\u001b[0m\u001b[0;34m\u001b[0m\u001b[0;34m\u001b[0m\u001b[0m\n\u001b[0;32m----> 2\u001b[0;31m \u001b[0ma\u001b[0m\u001b[0;34m[\u001b[0m\u001b[0;36m0\u001b[0m\u001b[0;34m]\u001b[0m\u001b[0;34m\u001b[0m\u001b[0;34m\u001b[0m\u001b[0m\n\u001b[0m",
      "\u001b[0;31mTypeError\u001b[0m: 'set' object is not subscriptable"
     ]
    }
   ],
   "source": [
    "a = set([1,2])\n",
    "a[0]"
   ]
  },
  {
   "cell_type": "code",
   "execution_count": 71,
   "metadata": {},
   "outputs": [
    {
     "name": "stdout",
     "output_type": "stream",
     "text": [
      "1 1\n"
     ]
    }
   ],
   "source": [
    "junk(1,1)"
   ]
  },
  {
   "cell_type": "code",
   "execution_count": 61,
   "metadata": {},
   "outputs": [
    {
     "data": {
      "text/plain": [
       "{'01', '02'}"
      ]
     },
     "execution_count": 61,
     "metadata": {},
     "output_type": "execute_result"
    }
   ],
   "source": [
    "set(re.findall('[0-9]+', str(i))[-1] for i in file_list_orig)"
   ]
  },
  {
   "cell_type": "code",
   "execution_count": 320,
   "metadata": {},
   "outputs": [],
   "source": [
    "class EarthDataTrain(Dataset):\n",
    "    \n",
    "    def __init__(self, path_down_folder, path_orig_folder, random_roll=True, gen_input_width=10, gen_output_width=38):\n",
    "        \"\"\"\n",
    "        Args:\n",
    "            path_down_folder (Pathlib path): Downsampled folder directory.\n",
    "            path_orig_folder (Pathlib path): Original folder directory.\n",
    "            random_roll (True or False): Whether or not to roll about the longitudinal (north-south) axis\n",
    "            gen_input_width (int): Width of data that will be fed into generator. (default is 10)\n",
    "            gen_output_width (int): Width of output from generator. (should be 38 on default)\n",
    "            \n",
    "        \"\"\"\n",
    "        self.random_roll = random_roll # amount to roll downsampled data\n",
    "        self.gen_input_width = gen_input_width # width of the downsampled data to kept and fed into generator\n",
    "        self.gen_output_width = gen_output_width # width of the output from the generator\n",
    "        self.path_input_folder = path_input_folder\n",
    "        self.path_truth_folder = path_truth_folder\n",
    "        \n",
    "        file_list_truth = list(path_truth_folder.rglob('*.npy'))\n",
    "        file_list_input = list(path_input_folder.rglob('*.npy'))\n",
    "        \n",
    "        # get each of the unique time steps (stored as a list)\n",
    "        self.time_step_list = list(set(re.findall('[0-9]+', str(i))[-1] for i in file_list_truth))\n",
    "        \n",
    "        # len data (number of unique samples)\n",
    "        self.data_len = len(self.time_step_list)\n",
    "        \n",
    "        # check that the same time steps in each folder\n",
    "        # we use sets to find the unique time steps in the downsample and orig folders\n",
    "        # and then use difference to find any samples that don't have a matching pair\n",
    "        unique_steps_input = set(re.findall('[0-9]+', str(i))[-1] for i in file_list_input)\n",
    "        check_1 = unique_steps_input.difference(self.time_step_list)\n",
    "        check_2 = set(self.time_step_list).difference(unique_steps_input)\n",
    "        \n",
    "        assert len(check_1) == 0, f'missing orig or down time step sample(s): {check_1}'\n",
    "        assert len(check_2) == 0, f'missing orig or down time step sample(s): {check_2}'\n",
    "       \n",
    "        \n",
    "    def __getitem__(self, index):\n",
    "        \n",
    "        # helper functions\n",
    "        def pad_data(x, pad_top_bot=0, pad_sides=0):\n",
    "            \"pad top/bot or sides of tensor\"\n",
    "            if pad_sides > 0:\n",
    "                x = torch.cat((x[:,:,:,:,-pad_sides:], x, x[:,:,:,:,:pad_sides]), axis=-1)\n",
    "\n",
    "            if pad_top_bot > 0:\n",
    "                x = torch.cat((torch.flip(x, [3])[:,:,:,-pad_top_bot:,:], # mirror array and select top rows\n",
    "                                 x, \n",
    "                                 torch.flip(x, [3])[:,:,:,:pad_top_bot,:]), # mirror array and select bottom rows\n",
    "                              axis=-2) # append along longitudinal (left-right) axis   \n",
    "            return x\n",
    "\n",
    "        def crop_data(x, crop_height=1, crop_width=1,):\n",
    "            \"symetrically crop tensor\"\n",
    "            w = crop_width\n",
    "            h = crop_height\n",
    "\n",
    "            if crop_width == 0 and crop_height == 0:\n",
    "                return x\n",
    "            elif crop_width == 0:\n",
    "                return x[:,:,:,h:-h,:]\n",
    "            elif crop_height == 0:\n",
    "                return x[:,:,:,:,w:-w]\n",
    "            else:\n",
    "                return x[:,:,:,h:-h,w:-w]\n",
    "        \n",
    "        # get data time step\n",
    "        single_time_step = self.time_step_list[index]\n",
    "        \n",
    "        # get downsampled data based on time setp\n",
    "        input_name = f'x_{single_time_step}.npy'\n",
    "        input_data = torch.tensor(np.load(self.path_down_folder / input_name))\n",
    "        \n",
    "        # get orig data\n",
    "        truth_name = f'x_orig_{single_time_step}.npy'\n",
    "        truth_data = torch.tensor(np.load(self.path_orig_folder / truth_name))\n",
    "         \n",
    "        # roll the down_data if requested\n",
    "        if self.random_roll == True:\n",
    "            roll_n = torch.randint(0,27,(1,)).item()\n",
    "        else:\n",
    "            roll_n = 0\n",
    "            \n",
    "        input_data = torch.roll(input_data, roll_n, 4) # roll if used\n",
    "        input_data = input_data[:,:,:,:,:self.gen_input_width] # select first N points for width\n",
    "        input_data = pad_data(input_data, pad_top_bot=3, pad_sides=0) # hardcoded -- could make flexible in future\n",
    "        \n",
    "        # need an upsampled version of the down_data\n",
    "        # this will be concatenated onto both the generator output\n",
    "        # and the true value as input to the descriminator\n",
    "        up_data = F.interpolate(input_data, scale_factor=(1,8,8),\n",
    "                              mode='trilinear', align_corners=False)\n",
    "        \n",
    "        # width of up_data before cropping\n",
    "        wup = up_data.shape[-1]\n",
    "        \n",
    "        # crop up_data to match generator output\n",
    "        up_data = crop_data(up_data, crop_height=21, crop_width=21,) # hardcoded --> change in future\n",
    "        \n",
    "        # input to the generator needs 30 radial layers in order to get to a final radial output of 198\n",
    "        index_keep = np.round(np.arange(0,input_data.shape[2], input_data.shape[2]/30.0)).astype(int)\n",
    "        input_data = input_data[:,:,index_keep,:,:]\n",
    "        \n",
    "        # need the orig_data to match the output from the geneator with HxW = 108x22\n",
    "        truth_data = torch.roll(truth_data, roll_n*8, 4) # incase of roll\n",
    "        truth_data = pad_data(truth_data, pad_top_bot=5, pad_sides=0)\n",
    "        \n",
    "        # width of generator output\n",
    "        wg = self.gen_output_width\n",
    "        crop_dim = int((wup-wg)/2.0)\n",
    "\n",
    "        # crop orig_data to match generator output\n",
    "        truth_data = truth_data[:,:,:,:,crop_dim:crop_dim+wg]\n",
    "        \n",
    "        # samples in orig/down folders stored as (# samples, # variables, Radial, Height, Width)\n",
    "        # need to remove the # samples --> since each sample in folder has # samples = 1, we can\n",
    "        # select it only\n",
    "        sample = {'truth': truth_data[0,:,:,:,:], 'input': input_data[0,:,:,:,:], 'upsampled': up_data[0,:,:,:,:]}\n",
    "             \n",
    "        return sample\n",
    "    \n",
    "        \n",
    "    def __len__(self):\n",
    "        return self.data_len\n",
    "        "
   ]
  },
  {
   "cell_type": "markdown",
   "metadata": {},
   "source": [
    "Instantiate the class."
   ]
  },
  {
   "cell_type": "code",
   "execution_count": 321,
   "metadata": {},
   "outputs": [],
   "source": [
    "# make your root_dir the current working directory\n",
    "root_dir = Path.cwd().parent # set the root directory as a Pathlib path\n",
    "\n",
    "path_down_folder = root_dir / 'data/processed/downsampled'\n",
    "path_orig_folder = root_dir / 'data/processed/orig'\n",
    "\n",
    "earth_dataset = EarthDataTrain(path_down_folder, path_orig_folder)"
   ]
  },
  {
   "cell_type": "code",
   "execution_count": 327,
   "metadata": {},
   "outputs": [
    {
     "data": {
      "image/png": "[encoded data removed]",
      "text/plain": [
       "<Figure size 1296x576 with 3 Axes>"
      ]
     },
     "metadata": {
      "needs_background": "light"
     },
     "output_type": "display_data"
    }
   ],
   "source": [
    "sample = earth_dataset[0]\n",
    "\n",
    "color_scheme='inferno'\n",
    "fig, ax = plt.subplots(1,3, figsize=(18,8))\n",
    "\n",
    "for i, k in enumerate(sample.keys()):\n",
    "    ax[i].pcolormesh(sample[k][0,0,:,:], cmap=color_scheme)\n",
    "    ax[i].set_aspect(1)\n",
    "    \n",
    "\n",
    "plt.show()"
   ]
  },
  {
   "cell_type": "code",
   "execution_count": 328,
   "metadata": {},
   "outputs": [],
   "source": [
    "dataset_loader = torch.utils.data.DataLoader(earth_dataset,\n",
    "                                             batch_size=2, shuffle=True,\n",
    "                                             num_workers=2)"
   ]
  },
  {
   "cell_type": "code",
   "execution_count": 329,
   "metadata": {},
   "outputs": [
    {
     "data": {
      "text/plain": [
       "<torch.utils.data.dataloader.DataLoader at 0x7fb3c2505580>"
      ]
     },
     "execution_count": 329,
     "metadata": {},
     "output_type": "execute_result"
    }
   ],
   "source": [
    "dataset_loader"
   ]
  },
  {
   "cell_type": "code",
   "execution_count": 330,
   "metadata": {},
   "outputs": [
    {
     "name": "stdout",
     "output_type": "stream",
     "text": [
      "<class 'dict'>\n"
     ]
    }
   ],
   "source": [
    "for i in dataset_loader:\n",
    "    print(type(i))"
   ]
  },
  {
   "cell_type": "code",
   "execution_count": 303,
   "metadata": {},
   "outputs": [
    {
     "data": {
      "text/plain": [
       "torch.Size([2, 4, 198, 118, 38])"
      ]
     },
     "execution_count": 303,
     "metadata": {},
     "output_type": "execute_result"
    }
   ],
   "source": [
    "i['orig'].shape"
   ]
  },
  {
   "cell_type": "code",
   "execution_count": null,
   "metadata": {},
   "outputs": [],
   "source": [
    "title_list = ['Input','Ground Truth']\n",
    "r_index = 182\n",
    "var_to_plot = 'temperature'\n",
    "\n",
    "\n",
    "# create image\n",
    "color_scheme='inferno'\n",
    "fig, axes = plt.subplots(1,2, figsize=(18,8))\n",
    "\n",
    "for ax, title in zip(axes.flat, title_list):\n",
    "    \n",
    "                \n",
    "    # downscaled data\n",
    "    if title == 'Input':\n",
    "        for i, var_name in enumerate(var_list):\n",
    "            if var_name == var_to_plot:\n",
    "                                \n",
    "                ax.pcolormesh(x[0,i,r_index,:,:], cmap=color_scheme)\n",
    "                ax.set_title(f\"{title}, {r_index}\")\n",
    "                ax.set_aspect(1)\n",
    "                \n",
    "            \n",
    "    # original data\n",
    "    if title == 'Ground Truth':\n",
    "        for i, var_name in enumerate(var_list):\n",
    "            if var_name == var_to_plot:\n",
    "                \n",
    "                ax.pcolormesh(x_orig[0,i,r_index,:,:], cmap=color_scheme)\n",
    "                ax.set_title(f\"{title}, {r_index}\")\n",
    "                ax.set_aspect(1)\n",
    "\n",
    "plt.show()"
   ]
  },
  {
   "cell_type": "code",
   "execution_count": null,
   "metadata": {},
   "outputs": [],
   "source": []
  }
 ],
 "metadata": {
  "kernelspec": {
   "display_name": "Python 3 (ipykernel)",
   "language": "python",
   "name": "python3"
  },
  "language_info": {
   "codemirror_mode": {
    "name": "ipython",
    "version": 3
   },
   "file_extension": ".py",
   "mimetype": "text/x-python",
   "name": "python",
   "nbconvert_exporter": "python",
   "pygments_lexer": "ipython3",
   "version": "3.8.10"
  }
 },
 "nbformat": 4,
 "nbformat_minor": 4
}
