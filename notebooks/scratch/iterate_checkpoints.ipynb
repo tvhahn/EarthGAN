{
 "cells": [
  {
   "cell_type": "code",
   "execution_count": 37,
   "id": "74da2271-6a4a-471e-a9e2-908db51e8c46",
   "metadata": {},
   "outputs": [],
   "source": [
    "# import glob\n",
    "from pathlib import Path\n",
    "import re\n",
    "import numpy as np"
   ]
  },
  {
   "cell_type": "code",
   "execution_count": 38,
   "id": "bdeecfcb-cd53-438e-8818-aaaedf3c7906",
   "metadata": {},
   "outputs": [
    {
     "name": "stdout",
     "output_type": "stream",
     "text": [
      "/home/tim/Documents/earth-mantle-surrogate\n",
      "/home/tim/Documents/earth-mantle-surrogate/models/interim/checkpoints/2021_07_15_093623\n"
     ]
    }
   ],
   "source": [
    "root_dir = Path.cwd().parent.parent\n",
    "print(root_dir)\n",
    "\n",
    "path_prev_checkpoint = root_dir / 'models/interim/checkpoints/2021_07_15_093623'\n",
    "print(path_prev_checkpoint)"
   ]
  },
  {
   "cell_type": "code",
   "execution_count": 47,
   "id": "6df20290-28dd-4b5a-89c4-be91aa630466",
   "metadata": {},
   "outputs": [],
   "source": [
    "def find_most_recent_checkpoint(path_prev_checkpoint):\n",
    "    \"\"\"Finds the most recent checkpoint in a checkpoint folder\n",
    "    and returns the path to that .pt file.\n",
    "    \"\"\"\n",
    "    \n",
    "    ckpt_list = list(path_prev_checkpoint.rglob('*.pt'))\n",
    "    max_epoch = sorted(list(int(re.findall('[0-9]+', str(i))[-1]) for i in ckpt_list))[-1]\n",
    "    print(max_epoch)\n",
    "    return Path(path_prev_checkpoint / f'train_{max_epoch}.pt')"
   ]
  },
  {
   "cell_type": "code",
   "execution_count": 48,
   "id": "27449f16-6e39-4acb-943b-237e0863d935",
   "metadata": {},
   "outputs": [
    {
     "name": "stdout",
     "output_type": "stream",
     "text": [
      "20\n"
     ]
    },
    {
     "data": {
      "text/plain": [
       "PosixPath('/home/tim/Documents/earth-mantle-surrogate/models/interim/checkpoints/2021_07_15_093623/train_20.pt')"
      ]
     },
     "execution_count": 48,
     "metadata": {},
     "output_type": "execute_result"
    }
   ],
   "source": [
    "l = find_most_recent_checkpoint(path_prev_checkpoint)\n",
    "l"
   ]
  },
  {
   "cell_type": "code",
   "execution_count": 46,
   "id": "8f41e706-de58-4387-9e1a-0ceeeab9f21c",
   "metadata": {},
   "outputs": [
    {
     "data": {
      "text/plain": [
       "True"
      ]
     },
     "execution_count": 46,
     "metadata": {},
     "output_type": "execute_result"
    }
   ],
   "source": [
    "l.exists()\n"
   ]
  },
  {
   "cell_type": "code",
   "execution_count": 32,
   "id": "ecf73a59-6fbb-4f46-8ad0-31e0860868e8",
   "metadata": {},
   "outputs": [
    {
     "data": {
      "text/plain": [
       "[0, 1, 2, 3, 4, 5, 6, 7, 8, 9, 10, 11, 12, 13, 14, 15, 16, 17, 18, 19, 20]"
      ]
     },
     "execution_count": 32,
     "metadata": {},
     "output_type": "execute_result"
    }
   ],
   "source": [
    "l"
   ]
  },
  {
   "cell_type": "code",
   "execution_count": null,
   "id": "48681701-0d3b-4530-a7a0-9ca6ea5f5901",
   "metadata": {},
   "outputs": [],
   "source": []
  }
 ],
 "metadata": {
  "kernelspec": {
   "display_name": "Python 3 (ipykernel)",
   "language": "python",
   "name": "python3"
  },
  "language_info": {
   "codemirror_mode": {
    "name": "ipython",
    "version": 3
   },
   "file_extension": ".py",
   "mimetype": "text/x-python",
   "name": "python",
   "nbconvert_exporter": "python",
   "pygments_lexer": "ipython3",
   "version": "3.8.10"
  }
 },
 "nbformat": 4,
 "nbformat_minor": 5
}
