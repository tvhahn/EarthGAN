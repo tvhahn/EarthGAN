{
 "cells": [
  {
   "cell_type": "code",
   "execution_count": 49,
   "id": "74da2271-6a4a-471e-a9e2-908db51e8c46",
   "metadata": {},
   "outputs": [],
   "source": [
    "# import glob\n",
    "from pathlib import Path\n",
    "import re\n",
    "import numpy as np\n",
    "\n",
    "import torch\n",
    "import torch.nn as nn\n",
    "import torch.optim as optim"
   ]
  },
  {
   "cell_type": "code",
   "execution_count": 38,
   "id": "bdeecfcb-cd53-438e-8818-aaaedf3c7906",
   "metadata": {},
   "outputs": [
    {
     "name": "stdout",
     "output_type": "stream",
     "text": [
      "/home/tim/Documents/earth-mantle-surrogate\n",
      "/home/tim/Documents/earth-mantle-surrogate/models/interim/checkpoints/2021_07_15_093623\n"
     ]
    }
   ],
   "source": [
    "root_dir = Path.cwd().parent.parent\n",
    "print(root_dir)\n",
    "\n",
    "path_prev_checkpoint = root_dir / 'models/interim/checkpoints/2021_07_15_093623'\n",
    "print(path_prev_checkpoint)"
   ]
  },
  {
   "cell_type": "code",
   "execution_count": 51,
   "id": "6df20290-28dd-4b5a-89c4-be91aa630466",
   "metadata": {},
   "outputs": [],
   "source": [
    "def find_most_recent_checkpoint(path_prev_checkpoint):\n",
    "    \"\"\"Finds the most recent checkpoint in a checkpoint folder\n",
    "    and returns the path to that .pt file.\n",
    "    \"\"\"\n",
    "    \n",
    "    ckpt_list = list(path_prev_checkpoint.rglob('*.pt'))\n",
    "    max_epoch = sorted(list(int(re.findall('[0-9]+', str(i))[-1]) for i in ckpt_list))[-1]\n",
    "    print(max_epoch)\n",
    "    return Path(path_prev_checkpoint / f'train_{max_epoch}.pt')"
   ]
  },
  {
   "cell_type": "code",
   "execution_count": 54,
   "id": "27449f16-6e39-4acb-943b-237e0863d935",
   "metadata": {},
   "outputs": [
    {
     "name": "stdout",
     "output_type": "stream",
     "text": [
      "20\n"
     ]
    }
   ],
   "source": [
    "PATH = find_most_recent_checkpoint(path_prev_checkpoint)\n"
   ]
  },
  {
   "cell_type": "code",
   "execution_count": 55,
   "id": "48681701-0d3b-4530-a7a0-9ca6ea5f5901",
   "metadata": {},
   "outputs": [],
   "source": [
    "checkpoint = torch.load(PATH)"
   ]
  },
  {
   "cell_type": "code",
   "execution_count": 57,
   "id": "90f64e93-95e1-4dbe-a12e-89281d7c07ee",
   "metadata": {},
   "outputs": [
    {
     "data": {
      "text/plain": [
       "dict_keys(['gen', 'critic', 'opt_gen', 'opt_critic', 'epoch'])"
      ]
     },
     "execution_count": 57,
     "metadata": {},
     "output_type": "execute_result"
    }
   ],
   "source": [
    "checkpoint.keys()"
   ]
  },
  {
   "cell_type": "code",
   "execution_count": 63,
   "id": "438ded9b-570a-49dc-86e0-dc59d71097f1",
   "metadata": {},
   "outputs": [
    {
     "data": {
      "text/plain": [
       "collections.OrderedDict"
      ]
     },
     "execution_count": 63,
     "metadata": {},
     "output_type": "execute_result"
    }
   ],
   "source": [
    "type(checkpoint['gen'])"
   ]
  },
  {
   "cell_type": "code",
   "execution_count": 60,
   "id": "acde70b7-f04b-46ad-96fd-684f992af201",
   "metadata": {},
   "outputs": [],
   "source": [
    "test_dummy = 'sdejhfshjfs'"
   ]
  },
  {
   "cell_type": "code",
   "execution_count": 61,
   "id": "0d4580e8-314e-4f5a-9d75-178a4c3d6ff9",
   "metadata": {},
   "outputs": [
    {
     "name": "stdout",
     "output_type": "stream",
     "text": [
      "false\n"
     ]
    }
   ],
   "source": [
    "if Path(test_dummy).exists():\n",
    "    print('exist')\n",
    "else:\n",
    "    print('false')"
   ]
  },
  {
   "cell_type": "code",
   "execution_count": null,
   "id": "e4df0315-ab6e-4a42-8f09-ef6a67766529",
   "metadata": {},
   "outputs": [],
   "source": []
  }
 ],
 "metadata": {
  "kernelspec": {
   "display_name": "Python 3 (ipykernel)",
   "language": "python",
   "name": "python3"
  },
  "language_info": {
   "codemirror_mode": {
    "name": "ipython",
    "version": 3
   },
   "file_extension": ".py",
   "mimetype": "text/x-python",
   "name": "python",
   "nbconvert_exporter": "python",
   "pygments_lexer": "ipython3",
   "version": "3.8.10"
  }
 },
 "nbformat": 4,
 "nbformat_minor": 5
}
