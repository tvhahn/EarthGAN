{
 "cells": [
  {
   "cell_type": "code",
   "execution_count": 1,
   "metadata": {},
   "outputs": [],
   "source": [
    "import torch\n",
    "import torch.nn.functional as F\n",
    "from torch.utils.data.dataset import Dataset\n",
    "from torch.utils.data import DataLoader\n",
    "import numpy as np\n",
    "import glob\n",
    "from pathlib import Path\n",
    "import os\n",
    "import matplotlib.pyplot as plt\n",
    "import re"
   ]
  },
  {
   "cell_type": "markdown",
   "metadata": {},
   "source": [
    "# Build Data Loader\n",
    "Practice building the data loader that Pytorch will use.\n",
    "\n",
    "Good reseource on building data loader: https://github.com/ugent-korea/pytorch-unet-segmentation/blob/master/src/dataset.py\n",
    "\n",
    "... and here too: https://github.com/utkuozbulak/pytorch-custom-dataset-examples"
   ]
  },
  {
   "cell_type": "code",
   "execution_count": 2,
   "metadata": {},
   "outputs": [
    {
     "name": "stdout",
     "output_type": "stream",
     "text": [
      "/home/tim/Documents/earth-mantle-surrogate\n"
     ]
    }
   ],
   "source": [
    "root_dir = Path.cwd().parent # set the root directory as a Pathlib path\n",
    "print(root_dir)\n",
    "\n",
    "path_input_folder = root_dir / 'data/processed/input'\n",
    "path_truth_folder = root_dir / 'data/processed/truth'"
   ]
  },
  {
   "cell_type": "markdown",
   "metadata": {},
   "source": [
    "Build data loader."
   ]
  },
  {
   "cell_type": "code",
   "execution_count": 3,
   "metadata": {},
   "outputs": [],
   "source": [
    "class EarthDataTrain(Dataset):\n",
    "    \n",
    "    def __init__(self, path_input_folder, path_truth_folder, random_roll=True, gen_input_width=10, gen_output_width=38):\n",
    "        \"\"\"\n",
    "        Args:\n",
    "            path_input_folder (Pathlib path): Input (downsampled) folder directory.\n",
    "            path_truth_folder (Pathlib path): Truth folder directory.\n",
    "            random_roll (True or False): Whether or not to roll about the longitudinal (north-south) axis\n",
    "            gen_input_width (int): Width of data that will be fed into generator. (default is 10)\n",
    "            gen_output_width (int): Width of output from generator. (should be 38 on default)\n",
    "            \n",
    "        \"\"\"\n",
    "        self.random_roll = random_roll # boolean for rolling or not\n",
    "        self.gen_input_width = gen_input_width # width of the downsampled data to kept and fed into generator\n",
    "        self.gen_output_width = gen_output_width # width of the output from the generator\n",
    "        self.path_input_folder = path_input_folder\n",
    "        self.path_truth_folder = path_truth_folder\n",
    "        \n",
    "        file_list_truth = list(path_truth_folder.rglob('*.npy'))\n",
    "        file_list_input = list(path_input_folder.rglob('*.npy'))\n",
    "        \n",
    "        # get each of the unique time steps (stored as a list)\n",
    "        self.time_step_list = list(set(re.findall('[0-9]+', str(i))[-1] for i in file_list_truth))\n",
    "        \n",
    "        # len data (number of unique samples)\n",
    "        self.data_len = len(self.time_step_list)\n",
    "        \n",
    "        # check that the same time steps in each folder\n",
    "        # we use sets to find the unique time steps in the downsample and truth folders\n",
    "        # and then use difference to find any samples that don't have a matching pair\n",
    "        unique_steps_input = set(re.findall('[0-9]+', str(i))[-1] for i in file_list_input)\n",
    "        check_1 = unique_steps_input.difference(self.time_step_list)\n",
    "        check_2 = set(self.time_step_list).difference(unique_steps_input)\n",
    "        \n",
    "        assert len(check_1) == 0, f'missing truth or input time step sample(s): {check_1}'\n",
    "        assert len(check_2) == 0, f'missing truth or input time step sample(s): {check_2}'\n",
    "       \n",
    "        \n",
    "    def __getitem__(self, index):\n",
    "        \n",
    "        # helper functions\n",
    "        def pad_data(x, pad_top_bot=0, pad_sides=0):\n",
    "            \"pad top/bot or sides of tensor\"\n",
    "            if pad_sides > 0:\n",
    "                x = torch.cat((x[:,:,:,:,-pad_sides:], x, x[:,:,:,:,:pad_sides]), axis=-1)\n",
    "\n",
    "            if pad_top_bot > 0:\n",
    "                x = torch.cat((torch.flip(x, [3])[:,:,:,-pad_top_bot:,:], # mirror array and select top rows\n",
    "                                 x, \n",
    "                                 torch.flip(x, [3])[:,:,:,:pad_top_bot,:]), # mirror array and select bottom rows\n",
    "                              axis=-2) # append along longitudinal (left-right) axis   \n",
    "            return x\n",
    "\n",
    "        def crop_data(x, crop_height=1, crop_width=1,):\n",
    "            \"symetrically crop tensor\"\n",
    "            w = crop_width\n",
    "            h = crop_height\n",
    "\n",
    "            if crop_width == 0 and crop_height == 0:\n",
    "                return x\n",
    "            elif crop_width == 0:\n",
    "                return x[:,:,:,h:-h,:]\n",
    "            elif crop_height == 0:\n",
    "                return x[:,:,:,:,w:-w]\n",
    "            else:\n",
    "                return x[:,:,:,h:-h,w:-w]\n",
    "        \n",
    "        # get data time step\n",
    "        single_time_step = self.time_step_list[index]\n",
    "        \n",
    "        # get downsampled (input) data based on time setp\n",
    "        input_name = f'x_{single_time_step}.npy'\n",
    "        input_data = torch.tensor(np.load(self.path_input_folder / input_name))\n",
    "        \n",
    "        # get truth data\n",
    "        truth_name = f'x_truth_{single_time_step}.npy'\n",
    "        truth_data = torch.tensor(np.load(self.path_truth_folder / truth_name))\n",
    "         \n",
    "        # roll the input_data if requested\n",
    "        if self.random_roll == True:\n",
    "            roll_n = torch.randint(0,27,(1,)).item()\n",
    "        else:\n",
    "            roll_n = 0\n",
    "            \n",
    "        input_data = torch.roll(input_data, roll_n, 4) # roll if used\n",
    "        input_data = input_data[:,:,:,:,:self.gen_input_width] # select first N points for width\n",
    "        input_data = pad_data(input_data, pad_top_bot=3, pad_sides=0) # hardcoded -- could make flexible in future\n",
    "        \n",
    "        # need an upsampled version of the input_data\n",
    "        # this will be concatenated onto both the generator output\n",
    "        # and the true value as input to the descriminator\n",
    "        up_data = F.interpolate(input_data, scale_factor=(1,8,8),\n",
    "                              mode='trilinear', align_corners=False)\n",
    "        \n",
    "        # width of up_data before cropping\n",
    "        wup = up_data.shape[-1]\n",
    "        \n",
    "        # crop up_data to match generator output\n",
    "        up_data = crop_data(up_data, crop_height=21, crop_width=21,) # hardcoded --> change in future\n",
    "        \n",
    "        # input to the generator needs 30 radial layers in order to get to a final radial output of 198\n",
    "        index_keep = np.round(np.arange(0,input_data.shape[2], input_data.shape[2]/30.0)).astype(int)\n",
    "        input_data = input_data[:,:,index_keep,:,:]\n",
    "        \n",
    "        # need the truth_data to match the output from the geneator with HxW = 108x22\n",
    "        truth_data = torch.roll(truth_data, roll_n*8, 4) # incase of roll\n",
    "        truth_data = pad_data(truth_data, pad_top_bot=5, pad_sides=0)\n",
    "        \n",
    "        # width of generator output\n",
    "        wg = self.gen_output_width\n",
    "        crop_dim = int((wup-wg)/2.0)\n",
    "\n",
    "        # crop truth_data to match generator output\n",
    "        truth_data = truth_data[:,:,:,:,crop_dim:crop_dim+wg]\n",
    "        \n",
    "        # samples in truth/input folders stored as (# samples, # variables, Radial, Height, Width)\n",
    "        # need to remove the # samples --> since each sample in folder has # samples = 1, we can\n",
    "        # select it only\n",
    "        sample = {'truth': truth_data[0,:,:,:,:], 'input': input_data[0,:,:,:,:], 'upsampled': up_data[0,:,:,:,:]}\n",
    "             \n",
    "        return sample\n",
    "    \n",
    "        \n",
    "    def __len__(self):\n",
    "        return self.data_len\n",
    "        "
   ]
  },
  {
   "cell_type": "markdown",
   "metadata": {},
   "source": [
    "Instantiate the class."
   ]
  },
  {
   "cell_type": "code",
   "execution_count": 4,
   "metadata": {},
   "outputs": [],
   "source": [
    "earth_dataset = EarthDataTrain(path_input_folder, path_truth_folder)"
   ]
  },
  {
   "cell_type": "code",
   "execution_count": 21,
   "metadata": {},
   "outputs": [
    {
     "data": {
      "image/png": "[encoded data removed]",
      "text/plain": [
       "<Figure size 1296x576 with 3 Axes>"
      ]
     },
     "metadata": {
      "needs_background": "light"
     },
     "output_type": "display_data"
    }
   ],
   "source": [
    "sample = earth_dataset[0]\n",
    "\n",
    "color_scheme='inferno'\n",
    "fig, ax = plt.subplots(1,3, figsize=(18,8))\n",
    "\n",
    "title_list = ['Ground-Truth', 'Input', 'Upsampled']\n",
    "for i, k in enumerate(sample.keys()):\n",
    "    ax[i].pcolormesh(sample[k][0,0,:,:], cmap=color_scheme)\n",
    "    ax[i].set_aspect(1)\n",
    "    ax[i].set_title(title_list[i])\n",
    "    ax[i].get_xaxis().set_visible(False)\n",
    "    ax[i].get_yaxis().set_visible(False)\n",
    "    \n",
    "plt.savefig('truth_input_1.png', dpi=300)\n",
    "plt.show()"
   ]
  },
  {
   "cell_type": "code",
   "execution_count": 14,
   "metadata": {},
   "outputs": [
    {
     "data": {
      "text/plain": [
       "30"
      ]
     },
     "execution_count": 14,
     "metadata": {},
     "output_type": "execute_result"
    }
   ],
   "source": [
    "sample['input'].shape[1]"
   ]
  },
  {
   "cell_type": "code",
   "execution_count": 20,
   "metadata": {},
   "outputs": [],
   "source": [
    "sample = earth_dataset[0]\n",
    "\n",
    "color_scheme='inferno'\n",
    "\n",
    "\n",
    "title_list = ['Ground-Truth', 'Input', 'Upsampled']\n",
    "for r_index in range(sample['input'].shape[1]):\n",
    "    fig, ax = plt.subplots(1,3, figsize=(18,8))\n",
    "    for i, k in enumerate(sample.keys()):\n",
    "        \n",
    "       \n",
    "    \n",
    "        ax[i].pcolormesh(sample[k][0,r_index,:,:], cmap=color_scheme)\n",
    "        ax[i].set_aspect(1)\n",
    "        ax[i].get_xaxis().set_visible(False)\n",
    "        ax[i].get_yaxis().set_visible(False)\n",
    "#     ax[i].set_title(title_list[i])\n",
    "    \n",
    "    plt.savefig(f'{r_index}.png', dpi=300)\n",
    "    plt.cla()\n",
    "    plt.close()\n",
    "    "
   ]
  },
  {
   "cell_type": "code",
   "execution_count": 18,
   "metadata": {},
   "outputs": [
    {
     "data": {
      "text/plain": [
       "torch.Size([118, 38])"
      ]
     },
     "execution_count": 18,
     "metadata": {},
     "output_type": "execute_result"
    }
   ],
   "source": [
    "sample[k][0,0,:,:].shape"
   ]
  },
  {
   "cell_type": "code",
   "execution_count": 6,
   "metadata": {},
   "outputs": [],
   "source": [
    "dataset_loader = torch.utils.data.DataLoader(earth_dataset,\n",
    "                                             batch_size=2, shuffle=True,\n",
    "                                             num_workers=2)"
   ]
  },
  {
   "cell_type": "code",
   "execution_count": 7,
   "metadata": {},
   "outputs": [
    {
     "data": {
      "text/plain": [
       "<torch.utils.data.dataloader.DataLoader at 0x7f4541e7ebe0>"
      ]
     },
     "execution_count": 7,
     "metadata": {},
     "output_type": "execute_result"
    }
   ],
   "source": [
    "dataset_loader"
   ]
  },
  {
   "cell_type": "code",
   "execution_count": 8,
   "metadata": {},
   "outputs": [
    {
     "name": "stdout",
     "output_type": "stream",
     "text": [
      "<class 'dict'>\n"
     ]
    }
   ],
   "source": [
    "for i in dataset_loader:\n",
    "    print(type(i))"
   ]
  },
  {
   "cell_type": "code",
   "execution_count": 9,
   "metadata": {},
   "outputs": [
    {
     "data": {
      "text/plain": [
       "torch.Size([2, 4, 198, 118, 38])"
      ]
     },
     "execution_count": 9,
     "metadata": {},
     "output_type": "execute_result"
    }
   ],
   "source": [
    "i['truth'].shape"
   ]
  },
  {
   "cell_type": "markdown",
   "metadata": {},
   "source": [
    "# Import Dataloader from src"
   ]
  },
  {
   "cell_type": "code",
   "execution_count": 10,
   "metadata": {},
   "outputs": [],
   "source": [
    "from src.models.utils.create_batch import EarthDataTrain"
   ]
  },
  {
   "cell_type": "code",
   "execution_count": 11,
   "metadata": {},
   "outputs": [],
   "source": [
    "root_dir = Path.cwd().parent # set the root directory as a Pathlib path\n",
    "\n",
    "path_input_folder = root_dir / 'data/processed/input'\n",
    "path_truth_folder = root_dir / 'data/processed/truth'\n",
    "\n",
    "earth_dataset = EarthDataTrain(path_input_folder, path_truth_folder)"
   ]
  },
  {
   "cell_type": "code",
   "execution_count": 8,
   "metadata": {},
   "outputs": [
    {
     "data": {
      "image/png": "[encoded data removed]",
      "text/plain": [
       "<Figure size 1296x576 with 3 Axes>"
      ]
     },
     "metadata": {
      "needs_background": "light"
     },
     "output_type": "display_data"
    }
   ],
   "source": [
    "sample = earth_dataset[0]\n",
    "\n",
    "color_scheme='inferno'\n",
    "fig, ax = plt.subplots(1,3, figsize=(18,8))\n",
    "\n",
    "for i, k in enumerate(sample.keys()):\n",
    "    ax[i].pcolormesh(sample[k][0,0,:,:], cmap=color_scheme)\n",
    "    ax[i].set_aspect(1)\n",
    "    \n",
    "\n",
    "plt.show()"
   ]
  },
  {
   "cell_type": "code",
   "execution_count": 24,
   "metadata": {},
   "outputs": [],
   "source": [
    "loader = DataLoader(\n",
    "    earth_dataset,\n",
    "    batch_size=2,\n",
    "    shuffle=True,\n",
    ")"
   ]
  },
  {
   "cell_type": "code",
   "execution_count": 25,
   "metadata": {},
   "outputs": [],
   "source": [
    "for batch_idx, data in enumerate(loader):\n",
    "    x = data"
   ]
  },
  {
   "cell_type": "code",
   "execution_count": 26,
   "metadata": {},
   "outputs": [
    {
     "data": {
      "text/plain": [
       "dict_keys(['truth', 'input', 'upsampled'])"
      ]
     },
     "execution_count": 26,
     "metadata": {},
     "output_type": "execute_result"
    }
   ],
   "source": [
    "x.keys()"
   ]
  },
  {
   "cell_type": "code",
   "execution_count": 27,
   "metadata": {},
   "outputs": [
    {
     "data": {
      "text/plain": [
       "torch.Size([2, 4, 198, 118, 38])"
      ]
     },
     "execution_count": 27,
     "metadata": {},
     "output_type": "execute_result"
    }
   ],
   "source": [
    "x['truth'].shape"
   ]
  },
  {
   "cell_type": "code",
   "execution_count": 28,
   "metadata": {},
   "outputs": [
    {
     "data": {
      "text/plain": [
       "torch.Size([2, 4, 30, 20, 10])"
      ]
     },
     "execution_count": 28,
     "metadata": {},
     "output_type": "execute_result"
    }
   ],
   "source": [
    "x['input'].shape"
   ]
  },
  {
   "cell_type": "code",
   "execution_count": 29,
   "metadata": {},
   "outputs": [
    {
     "data": {
      "text/plain": [
       "torch.Size([2, 4, 198, 118, 38])"
      ]
     },
     "execution_count": 29,
     "metadata": {},
     "output_type": "execute_result"
    }
   ],
   "source": [
    "x['upsampled'].shape"
   ]
  },
  {
   "cell_type": "code",
   "execution_count": null,
   "metadata": {},
   "outputs": [],
   "source": []
  }
 ],
 "metadata": {
  "kernelspec": {
   "display_name": "Python 3 (ipykernel)",
   "language": "python",
   "name": "python3"
  },
  "language_info": {
   "codemirror_mode": {
    "name": "ipython",
    "version": 3
   },
   "file_extension": ".py",
   "mimetype": "text/x-python",
   "name": "python",
   "nbconvert_exporter": "python",
   "pygments_lexer": "ipython3",
   "version": "3.8.10"
  }
 },
 "nbformat": 4,
 "nbformat_minor": 4
}
